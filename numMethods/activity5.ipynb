{
 "cells": [
  {
   "cell_type": "code",
   "execution_count": 64,
   "id": "fa96a539",
   "metadata": {},
   "outputs": [],
   "source": [
    "from pprint import pprint\n",
    "import sympy as sp\n",
    "from sympy import Matrix\n",
    "import numpy as np"
   ]
  },
  {
   "cell_type": "markdown",
   "id": "faa7f07c",
   "metadata": {},
   "source": [
    "# ejercicio 2x2"
   ]
  },
  {
   "cell_type": "code",
   "execution_count": 65,
   "id": "60c9eb72",
   "metadata": {},
   "outputs": [
    {
     "name": "stdout",
     "output_type": "stream",
     "text": [
      "\n",
      " ------------- Exercise 8 ------------- \n",
      "\n",
      "The augmented matrix (A|b):\n",
      "Matrix([\n",
      "[-0.8,  0.7, 0],\n",
      "[ 0.8, -0.7, 0]])\n",
      "The row echelon form of the matrix is:\n",
      "Matrix([\n",
      "[1, -0.875, 0],\n",
      "[0,      0, 0]])\n"
     ]
    }
   ],
   "source": [
    "print('\\n ------------- Exercise 8 ------------- \\n')\n",
    "\n",
    "augmented_A = sp.Matrix([[-0.8, 0.7, 0],[0.8, -0.7, 0]])\n",
    "\n",
    "print('The augmented matrix (A|b):')\n",
    "pprint(augmented_A)\n",
    "A_new = augmented_A.rref()[0]\n",
    "print('The row echelon form of the matrix is:')\n",
    "pprint(A_new)"
   ]
  },
  {
   "cell_type": "markdown",
   "id": "f2bf1632",
   "metadata": {},
   "source": [
    "# ejercicio 3x3"
   ]
  },
  {
   "cell_type": "code",
   "execution_count": 66,
   "id": "d1c2fe7d",
   "metadata": {},
   "outputs": [
    {
     "name": "stdout",
     "output_type": "stream",
     "text": [
      "\n",
      " ------------- Exercise 4 ------------- \n",
      "\n",
      "The augmented matrix (A|b):\n",
      "Matrix([\n",
      "[2, -3,  1, -1],\n",
      "[1, -2,  2, -3],\n",
      "[3,  1, -1,  9]])\n",
      "The row echelon form of the matrix is:\n",
      "Matrix([\n",
      "[1, 0, 0,   15/7],\n",
      "[0, 1, 0,  19/14],\n",
      "[0, 0, 1, -17/14]])\n"
     ]
    }
   ],
   "source": [
    "print('\\n ------------- Exercise 4 ------------- \\n')\n",
    "\n",
    "augmented_A = sp.Matrix([[2, -3, 1, -1],[1, -2, 2, -3], [3, 1, -1, 9]])\n",
    "\n",
    "print('The augmented matrix (A|b):')\n",
    "pprint(augmented_A)\n",
    "A_new = augmented_A.rref()[0]\n",
    "print('The row echelon form of the matrix is:')\n",
    "pprint(A_new)"
   ]
  },
  {
   "cell_type": "code",
   "execution_count": 67,
   "id": "6cc3ea63",
   "metadata": {},
   "outputs": [
    {
     "name": "stdout",
     "output_type": "stream",
     "text": [
      "\n",
      " ------------- Exercise 5 ------------- \n",
      "\n",
      "The augmented matrix (A|b):\n",
      "Matrix([\n",
      "[ 1, -1,  4, -5],\n",
      "[ 3,  0,  1,  0],\n",
      "[-1,  1, -4, 20]])\n",
      "The row echelon form of the matrix is:\n",
      "Matrix([\n",
      "[1, 0,   1/3, 0],\n",
      "[0, 1, -11/3, 0],\n",
      "[0, 0,     0, 1]])\n"
     ]
    }
   ],
   "source": [
    "print('\\n ------------- Exercise 5 ------------- \\n')\n",
    "\n",
    "augmented_A = sp.Matrix([[1, -1, 4, -5],[3, 0, 1, 0], [-1, 1, -4, 20]])\n",
    "\n",
    "print('The augmented matrix (A|b):')\n",
    "pprint(augmented_A)\n",
    "A_new = augmented_A.rref()[0]\n",
    "print('The row echelon form of the matrix is:')\n",
    "pprint(A_new)"
   ]
  },
  {
   "cell_type": "code",
   "execution_count": 68,
   "id": "a22f841d",
   "metadata": {},
   "outputs": [
    {
     "name": "stdout",
     "output_type": "stream",
     "text": [
      "\n",
      " ------------- Exercise 6 ------------- \n",
      "\n",
      "The augmented matrix (A|b):\n",
      "Matrix([\n",
      "[-1,  1, 2,  0],\n",
      "[ 1,  2, 1,  6],\n",
      "[-2, -1, 1, -6]])\n",
      "The row echelon form of the matrix is:\n",
      "Matrix([\n",
      "[1, 0, -1, 2],\n",
      "[0, 1,  1, 2],\n",
      "[0, 0,  0, 0]])\n"
     ]
    }
   ],
   "source": [
    "print('\\n ------------- Exercise 6 ------------- \\n')\n",
    "\n",
    "augmented_A = sp.Matrix([[-1, 1, 2, 0],[1, 2, 1, 6], [-2, -1, 1, -6]])\n",
    "\n",
    "print('The augmented matrix (A|b):')\n",
    "pprint(augmented_A)\n",
    "A_new = augmented_A.rref()[0]\n",
    "print('The row echelon form of the matrix is:')\n",
    "pprint(A_new)"
   ]
  },
  {
   "cell_type": "code",
   "execution_count": 69,
   "id": "a0a00fcd",
   "metadata": {},
   "outputs": [
    {
     "name": "stdout",
     "output_type": "stream",
     "text": [
      "\n",
      " ------------- Exercise 7 ------------- \n",
      "\n",
      "The augmented matrix (A|b):\n",
      "Matrix([\n",
      "[-0.6,  0.2,  0.2, 0],\n",
      "[ 0.1, -0.3,  0.2, 0],\n",
      "[ 0.5,  0.1, -0.4, 0]])\n",
      "The row echelon form of the matrix is:\n",
      "Matrix([\n",
      "[1, 0, 0, 0],\n",
      "[0, 1, 0, 0],\n",
      "[0, 0, 1, 0]])\n"
     ]
    }
   ],
   "source": [
    "print('\\n ------------- Exercise 7 ------------- \\n')\n",
    "\n",
    "augmented_A = sp.Matrix([[-0.6, 0.2, 0.2, 0],[0.1, -0.3, 0.2, 0], [0.5, 0.1, -0.4, 0]])\n",
    "\n",
    "print('The augmented matrix (A|b):')\n",
    "pprint(augmented_A)\n",
    "A_new = augmented_A.rref()[0]\n",
    "print('The row echelon form of the matrix is:')\n",
    "pprint(A_new)"
   ]
  },
  {
   "cell_type": "markdown",
   "id": "5cae4dc1",
   "metadata": {},
   "source": [
    "## Ejercicio 1 (única solución)"
   ]
  },
  {
   "cell_type": "code",
   "execution_count": 70,
   "id": "f0e7573a",
   "metadata": {},
   "outputs": [
    {
     "name": "stdout",
     "output_type": "stream",
     "text": [
      "\n",
      " ------------- Exercise 1 ------------- \n",
      "\n",
      "The augmented matrix (A|b):\n",
      "Matrix([\n",
      "[3, -2,  4],\n",
      "[5,  2, 12]])\n",
      "The row echelon form of the matrix is:\n",
      "Matrix([\n",
      "[1, 0, 2],\n",
      "[0, 1, 1]])\n"
     ]
    }
   ],
   "source": [
    "# Exercise 1\n",
    "print('\\n ------------- Exercise 1 ------------- \\n')\n",
    "\n",
    "augmented_A = sp.Matrix([[3, -2, 4],[5, 2, 12]])\n",
    "\n",
    "print('The augmented matrix (A|b):')\n",
    "pprint(augmented_A)\n",
    "A_new = augmented_A.rref()[0]\n",
    "print('The row echelon form of the matrix is:')\n",
    "pprint(A_new)\n"
   ]
  },
  {
   "cell_type": "code",
   "execution_count": 71,
   "id": "be092e17",
   "metadata": {},
   "outputs": [
    {
     "name": "stdout",
     "output_type": "stream",
     "text": [
      "\n",
      " Coefficient matrix A: \n",
      "\n",
      "array([[ 3, -2],\n",
      "       [ 5,  2]])\n",
      "\n",
      " Column vector of constant terms b:\n",
      "\n",
      "array([[ 4],\n",
      "       [12]])\n",
      "\n",
      " Determinant of matrix: 15.999999999999998\n",
      "The system of linear equations has exactly one solution:\n",
      "[[2.]\n",
      " [1.]]\n"
     ]
    }
   ],
   "source": [
    "A = np.array([[3, -2], [5, 2]])\n",
    "print('\\n Coefficient matrix A: \\n')\n",
    "pprint(A)\n",
    "\n",
    "print('\\n Column vector of constant terms b:\\n')\n",
    "b = np.array([[4], [12]])\n",
    "pprint(b)\n",
    "\n",
    "detA = np.linalg.det(A)\n",
    "print('\\n Determinant of matrix:', detA)\n",
    "\n",
    "if detA == 0:\n",
    "    print(\"The system of linear equations has no solution or infinitely many solutions.\")\n",
    "else: \n",
    "    print(\"The system of linear equations has exactly one solution:\")\n",
    "    u = np.linalg.solve(A,b)\n",
    "    print(u)\n"
   ]
  },
  {
   "cell_type": "code",
   "execution_count": 72,
   "id": "40e0e158",
   "metadata": {},
   "outputs": [
    {
     "name": "stdout",
     "output_type": "stream",
     "text": [
      "La matriz augmented_A es de tamaño (2, 3)\n",
      "La matriz A es de tamaño (2, 2)\n",
      "La matriz b es de tamaño (2, 1)\n"
     ]
    }
   ],
   "source": [
    "print(\"La matriz augmented_A es de tamaño\", augmented_A.shape)\n",
    "print(\"La matriz A es de tamaño\", A.shape)\n",
    "print(\"La matriz b es de tamaño\", b.shape)"
   ]
  },
  {
   "cell_type": "code",
   "execution_count": 73,
   "id": "375634e2",
   "metadata": {},
   "outputs": [
    {
     "name": "stdout",
     "output_type": "stream",
     "text": [
      "Número de columnas de A: 2\n",
      "Número de filas de b: 2\n",
      "El SEL está bien definido\n"
     ]
    }
   ],
   "source": [
    "print('Número de columnas de A:', A.shape[1])\n",
    "print('Número de filas de b:', b.shape[0])\n",
    "\n",
    "if A.shape[1]==b.shape[0]:\n",
    "    print(\"El SEL está bien definido\")\n",
    "else:\n",
    "    print(\"El SEL NO está bien definido\")"
   ]
  },
  {
   "cell_type": "markdown",
   "id": "f0275c3f",
   "metadata": {},
   "source": [
    "## Ejercicio 2 (infinitas soluciones)"
   ]
  },
  {
   "cell_type": "code",
   "execution_count": 74,
   "id": "a5cc9343",
   "metadata": {},
   "outputs": [
    {
     "name": "stdout",
     "output_type": "stream",
     "text": [
      "\n",
      " ------------- Exercise 2 ------------- \n",
      "\n",
      "The augmented matrix (A|b):\n",
      "Matrix([\n",
      "[1, -1,  7],\n",
      "[2, -2, 14]])\n",
      "The row echelon form of the matrix is:\n",
      "Matrix([\n",
      "[1, -1, 7],\n",
      "[0,  0, 0]])\n",
      "\n",
      " Coefficient matrix A: \n",
      "\n",
      "array([[ 1, -1],\n",
      "       [ 2, -2]])\n",
      "\n",
      " Column vector of constant terms b:\n",
      "\n",
      "[ 7 14]\n",
      "\n",
      " Determinant of matrix: 0.0\n",
      "The system of linear equations has no solution or infinitely many solutions.\n"
     ]
    }
   ],
   "source": [
    "########################### Exercise 2\n",
    "print('\\n ------------- Exercise 2 ------------- \\n')\n",
    "\n",
    "augmented_A = sp.Matrix([[1, -1, 7],[2, -2, 14]])\n",
    "\n",
    "print('The augmented matrix (A|b):')\n",
    "pprint(augmented_A)\n",
    "A_new = augmented_A.rref()[0]\n",
    "print('The row echelon form of the matrix is:')\n",
    "pprint(A_new)\n",
    "\n",
    "A = np.array([[1, -1], [2, -2]])\n",
    "print('\\n Coefficient matrix A: \\n')\n",
    "pprint(A)\n",
    "\n",
    "print('\\n Column vector of constant terms b:\\n')\n",
    "b = np.array([7, 14])\n",
    "print(b)\n",
    "\n",
    "detA = np.linalg.det(A)\n",
    "print('\\n Determinant of matrix:', detA)\n",
    "\n",
    "if detA == 0:\n",
    "    print(\"The system of linear equations has no solution or infinitely many solutions.\")\n",
    "else: \n",
    "    print(\"The system of linear equations has exactly one solution:\")\n",
    "    u = np.linalg.solve(A,b)\n",
    "    print(u)\n"
   ]
  },
  {
   "cell_type": "markdown",
   "id": "1d4897f6",
   "metadata": {},
   "source": [
    "## Ejercicio 3 (no tiene solución)"
   ]
  },
  {
   "cell_type": "code",
   "execution_count": 75,
   "id": "b2bb4acb",
   "metadata": {},
   "outputs": [
    {
     "name": "stdout",
     "output_type": "stream",
     "text": [
      "\n",
      " ------------- Exercise 3 ------------- \n",
      "\n",
      "The augmented matrix (A|b):\n",
      "Matrix([\n",
      "[1, -1,  7],\n",
      "[2, -2, 10]])\n",
      "The row echelon form of the matrix is:\n",
      "Matrix([\n",
      "[1, -1, 0],\n",
      "[0,  0, 1]])\n",
      "\n",
      " Coefficient matrix A: \n",
      "\n",
      "array([[ 1, -1],\n",
      "       [ 2, -2]])\n",
      "\n",
      " Column vector of constant terms b:\n",
      "\n",
      "[ 7 14]\n",
      "\n",
      " Determinant of matrix: 0.0\n",
      "The system of linear equations has no solution or infinitely many solutions.\n"
     ]
    }
   ],
   "source": [
    "########################### Exercise 3\n",
    "print('\\n ------------- Exercise 3 ------------- \\n')\n",
    "\n",
    "augmented_A = sp.Matrix([[1, -1, 7],[2, -2, 10]])\n",
    "\n",
    "print('The augmented matrix (A|b):')\n",
    "pprint(augmented_A)\n",
    "A_new = augmented_A.rref()[0]\n",
    "print('The row echelon form of the matrix is:')\n",
    "pprint(A_new)\n",
    "\n",
    "A = np.array([[1, -1], [2, -2]])\n",
    "print('\\n Coefficient matrix A: \\n')\n",
    "pprint(A)\n",
    "\n",
    "print('\\n Column vector of constant terms b:\\n')\n",
    "b = np.array([7, 14])\n",
    "print(b)\n",
    "\n",
    "detA = np.linalg.det(A)\n",
    "print('\\n Determinant of matrix:', detA)\n",
    "\n",
    "if detA == 0:\n",
    "    print(\"The system of linear equations has no solution or infinitely many solutions.\")\n",
    "else: \n",
    "    print(\"The system of linear equations has exactly one solution:\")\n",
    "    u = np.linalg.solve(A,b)\n",
    "    print(u)\n"
   ]
  },
  {
   "cell_type": "markdown",
   "id": "833f8af4",
   "metadata": {},
   "source": [
    "# Otros ejercicios"
   ]
  },
  {
   "cell_type": "code",
   "execution_count": 76,
   "id": "b12ee398",
   "metadata": {},
   "outputs": [
    {
     "name": "stdout",
     "output_type": "stream",
     "text": [
      "[ 0  1  2  3  4  5  6  7  8  9 10 11 12 13 14 15]\n"
     ]
    }
   ],
   "source": [
    "C = np.arange(16)\n",
    "print(C)"
   ]
  },
  {
   "cell_type": "code",
   "execution_count": 77,
   "id": "7c6917d6",
   "metadata": {},
   "outputs": [
    {
     "name": "stdout",
     "output_type": "stream",
     "text": [
      "[[ 0  1  2  3]\n",
      " [ 4  5  6  7]\n",
      " [ 8  9 10 11]\n",
      " [12 13 14 15]]\n"
     ]
    }
   ],
   "source": [
    "C.shape = (4,4)  # reordena el arreglo anterior a un arreglo de 4x4\n",
    "print(C)"
   ]
  },
  {
   "cell_type": "code",
   "execution_count": 78,
   "id": "e2542a9b",
   "metadata": {},
   "outputs": [
    {
     "name": "stdout",
     "output_type": "stream",
     "text": [
      "Primera fila [0 1 2 3]\n"
     ]
    }
   ],
   "source": [
    "print('Primera fila', C[0])"
   ]
  },
  {
   "cell_type": "code",
   "execution_count": 79,
   "id": "a4600aea",
   "metadata": {},
   "outputs": [
    {
     "name": "stdout",
     "output_type": "stream",
     "text": [
      "Última fila [12 13 14 15]\n"
     ]
    }
   ],
   "source": [
    "print('Última fila', C[-1])"
   ]
  },
  {
   "cell_type": "code",
   "execution_count": 80,
   "id": "33de6504",
   "metadata": {},
   "outputs": [
    {
     "data": {
      "text/plain": [
       "array([[0., 0., 0., 0., 0., 0., 0., 0.],\n",
       "       [0., 0., 0., 0., 0., 0., 0., 0.],\n",
       "       [0., 0., 0., 0., 0., 0., 0., 0.],\n",
       "       [0., 0., 0., 0., 0., 0., 0., 0.],\n",
       "       [0., 0., 0., 0., 0., 0., 0., 0.],\n",
       "       [0., 0., 0., 0., 0., 0., 0., 0.],\n",
       "       [0., 0., 0., 0., 0., 0., 0., 0.],\n",
       "       [0., 0., 0., 0., 0., 0., 0., 0.]])"
      ]
     },
     "execution_count": 80,
     "metadata": {},
     "output_type": "execute_result"
    }
   ],
   "source": [
    "E = np.zeros((8,8))\n",
    "E"
   ]
  },
  {
   "cell_type": "code",
   "execution_count": 81,
   "id": "bda36ce2",
   "metadata": {},
   "outputs": [
    {
     "data": {
      "text/plain": [
       "array([[1., 0., 0., 0., 0., 0., 0., 0.],\n",
       "       [0., 1., 0., 0., 0., 0., 0., 0.],\n",
       "       [0., 0., 1., 0., 0., 0., 0., 0.],\n",
       "       [0., 0., 0., 1., 0., 0., 0., 0.],\n",
       "       [0., 0., 0., 0., 1., 0., 0., 0.],\n",
       "       [0., 0., 0., 0., 0., 1., 0., 0.],\n",
       "       [0., 0., 0., 0., 0., 0., 1., 0.],\n",
       "       [0., 0., 0., 0., 0., 0., 0., 1.]])"
      ]
     },
     "execution_count": 81,
     "metadata": {},
     "output_type": "execute_result"
    }
   ],
   "source": [
    "for i in range(8):\n",
    "    E[i][i] = 1\n",
    "E"
   ]
  },
  {
   "cell_type": "code",
   "execution_count": 82,
   "id": "267124b9",
   "metadata": {},
   "outputs": [
    {
     "name": "stdout",
     "output_type": "stream",
     "text": [
      "[[1. 1. 1. 1. 1.]\n",
      " [1. 1. 1. 1. 1.]\n",
      " [1. 1. 1. 1. 1.]\n",
      " [1. 1. 1. 1. 1.]]\n"
     ]
    }
   ],
   "source": [
    "F = np.ones((4,5))\n",
    "print(F)"
   ]
  },
  {
   "cell_type": "code",
   "execution_count": 83,
   "id": "08c85ce5",
   "metadata": {},
   "outputs": [
    {
     "data": {
      "text/plain": [
       "array([[1., 1., 1., 1., 1.],\n",
       "       [1., 1., 1., 1., 1.],\n",
       "       [1., 1., 1., 1., 1.],\n",
       "       [1., 1., 1., 1., 1.]])"
      ]
     },
     "execution_count": 83,
     "metadata": {},
     "output_type": "execute_result"
    }
   ],
   "source": [
    "F.astype(int)  \n",
    "F"
   ]
  },
  {
   "cell_type": "code",
   "execution_count": 84,
   "id": "4518bda7",
   "metadata": {},
   "outputs": [
    {
     "name": "stdout",
     "output_type": "stream",
     "text": [
      "Matrix([\n",
      "[1.0, 1.0, 1.0, 1.0, 1.0],\n",
      "[1.0, 1.0, 1.0, 1.0, 1.0],\n",
      "[1.0, 1.0, 1.0, 1.0, 1.0],\n",
      "[1.0, 1.0, 1.0, 1.0, 1.0]])\n"
     ]
    }
   ],
   "source": [
    "augmented_F = Matrix(F)\n",
    "pprint(augmented_F)"
   ]
  },
  {
   "cell_type": "code",
   "execution_count": 85,
   "id": "59dac7d2",
   "metadata": {},
   "outputs": [
    {
     "data": {
      "text/latex": [
       "$\\displaystyle \\left[\\begin{matrix}1 & 1.0 & 1.0 & 1.0 & 1.0\\\\0 & 0 & 0 & 0 & 0\\\\0 & 0 & 0 & 0 & 0\\\\0 & 0 & 0 & 0 & 0\\end{matrix}\\right]$"
      ],
      "text/plain": [
       "Matrix([\n",
       "[1, 1.0, 1.0, 1.0, 1.0],\n",
       "[0,   0,   0,   0,   0],\n",
       "[0,   0,   0,   0,   0],\n",
       "[0,   0,   0,   0,   0]])"
      ]
     },
     "execution_count": 85,
     "metadata": {},
     "output_type": "execute_result"
    }
   ],
   "source": [
    "augmented_F.rref()[0]"
   ]
  },
  {
   "cell_type": "code",
   "execution_count": null,
   "id": "ccb4b73d",
   "metadata": {},
   "outputs": [],
   "source": []
  }
 ],
 "metadata": {
  "kernelspec": {
   "display_name": "Python 3 (ipykernel)",
   "language": "python",
   "name": "python3"
  },
  "language_info": {
   "codemirror_mode": {
    "name": "ipython",
    "version": 3
   },
   "file_extension": ".py",
   "mimetype": "text/x-python",
   "name": "python",
   "nbconvert_exporter": "python",
   "pygments_lexer": "ipython3",
   "version": "3.12.6"
  }
 },
 "nbformat": 4,
 "nbformat_minor": 5
}
